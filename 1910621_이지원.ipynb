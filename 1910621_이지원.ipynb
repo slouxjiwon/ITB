{
  "nbformat": 4,
  "nbformat_minor": 0,
  "metadata": {
    "colab": {
      "provenance": [],
      "authorship_tag": "ABX9TyMu6jL67wgFcS1xNDGn3QRT",
      "include_colab_link": true
    },
    "kernelspec": {
      "name": "python3",
      "display_name": "Python 3"
    },
    "language_info": {
      "name": "python"
    }
  },
  "cells": [
    {
      "cell_type": "markdown",
      "metadata": {
        "id": "view-in-github",
        "colab_type": "text"
      },
      "source": [
        "<a href=\"https://colab.research.google.com/github/slouxjiwon/ITB/blob/main/1910621_%EC%9D%B4%EC%A7%80%EC%9B%90.ipynb\" target=\"_parent\"><img src=\"https://colab.research.google.com/assets/colab-badge.svg\" alt=\"Open In Colab\"/></a>"
      ]
    },
    {
      "cell_type": "code",
      "execution_count": null,
      "metadata": {
        "id": "OSGvKPgb5nhf"
      },
      "outputs": [],
      "source": [
        "import pandas as pd\n",
        "import numpy as np  \n",
        "from scipy import sparse"
      ]
    },
    {
      "cell_type": "code",
      "source": [
        "%matplotlib inline\n",
        "import matplotlib as mpl               # 기본 설정\n",
        "import matplotlib.pyplot as plt        # 그래프 관련\n",
        "import matplotlib.font_manager as fm   # 폰트 관련"
      ],
      "metadata": {
        "id": "WigVaeqDprw3"
      },
      "execution_count": null,
      "outputs": []
    },
    {
      "cell_type": "code",
      "source": [
        "fpath = 'https://raw.githubusercontent.com/ykjoy/mining/main/chipotle.csv'"
      ],
      "metadata": {
        "id": "tu_z_zIK6AXk"
      },
      "execution_count": null,
      "outputs": []
    },
    {
      "cell_type": "code",
      "source": [
        "#리스트 출력\n",
        "df = pd.read_csv(fpath)\n",
        "print(type(df))  \n",
        "display(df) "
      ],
      "metadata": {
        "colab": {
          "base_uri": "https://localhost:8080/",
          "height": 441
        },
        "id": "FqUkw9eFjzhL",
        "outputId": "934686e5-40f6-4c92-cdc9-6196e9a04113"
      },
      "execution_count": null,
      "outputs": [
        {
          "output_type": "stream",
          "name": "stdout",
          "text": [
            "<class 'pandas.core.frame.DataFrame'>\n"
          ]
        },
        {
          "output_type": "display_data",
          "data": {
            "text/plain": [
              "      order_id  quantity                              item_name  \\\n",
              "0            1         1           Chips and Fresh Tomato Salsa   \n",
              "1            1         1                                   Izze   \n",
              "2            1         1                       Nantucket Nectar   \n",
              "3            1         1  Chips and Tomatillo-Green Chili Salsa   \n",
              "4            2         2                           Chicken Bowl   \n",
              "...        ...       ...                                    ...   \n",
              "4617      1833         1                          Steak Burrito   \n",
              "4618      1833         1                          Steak Burrito   \n",
              "4619      1834         1                     Chicken Salad Bowl   \n",
              "4620      1834         1                     Chicken Salad Bowl   \n",
              "4621      1834         1                     Chicken Salad Bowl   \n",
              "\n",
              "                                     choice_description item_price  \n",
              "0                                                   NaN     $2.39   \n",
              "1                                          [Clementine]     $3.39   \n",
              "2                                               [Apple]     $3.39   \n",
              "3                                                   NaN     $2.39   \n",
              "4     [Tomatillo-Red Chili Salsa (Hot), [Black Beans...    $16.98   \n",
              "...                                                 ...        ...  \n",
              "4617  [Fresh Tomato Salsa, [Rice, Black Beans, Sour ...    $11.75   \n",
              "4618  [Fresh Tomato Salsa, [Rice, Sour Cream, Cheese...    $11.75   \n",
              "4619  [Fresh Tomato Salsa, [Fajita Vegetables, Pinto...    $11.25   \n",
              "4620  [Fresh Tomato Salsa, [Fajita Vegetables, Lettu...     $8.75   \n",
              "4621  [Fresh Tomato Salsa, [Fajita Vegetables, Pinto...     $8.75   \n",
              "\n",
              "[4622 rows x 5 columns]"
            ],
            "text/html": [
              "\n",
              "  <div id=\"df-cf439615-7f8d-427d-8839-bdd611be3e7c\">\n",
              "    <div class=\"colab-df-container\">\n",
              "      <div>\n",
              "<style scoped>\n",
              "    .dataframe tbody tr th:only-of-type {\n",
              "        vertical-align: middle;\n",
              "    }\n",
              "\n",
              "    .dataframe tbody tr th {\n",
              "        vertical-align: top;\n",
              "    }\n",
              "\n",
              "    .dataframe thead th {\n",
              "        text-align: right;\n",
              "    }\n",
              "</style>\n",
              "<table border=\"1\" class=\"dataframe\">\n",
              "  <thead>\n",
              "    <tr style=\"text-align: right;\">\n",
              "      <th></th>\n",
              "      <th>order_id</th>\n",
              "      <th>quantity</th>\n",
              "      <th>item_name</th>\n",
              "      <th>choice_description</th>\n",
              "      <th>item_price</th>\n",
              "    </tr>\n",
              "  </thead>\n",
              "  <tbody>\n",
              "    <tr>\n",
              "      <th>0</th>\n",
              "      <td>1</td>\n",
              "      <td>1</td>\n",
              "      <td>Chips and Fresh Tomato Salsa</td>\n",
              "      <td>NaN</td>\n",
              "      <td>$2.39</td>\n",
              "    </tr>\n",
              "    <tr>\n",
              "      <th>1</th>\n",
              "      <td>1</td>\n",
              "      <td>1</td>\n",
              "      <td>Izze</td>\n",
              "      <td>[Clementine]</td>\n",
              "      <td>$3.39</td>\n",
              "    </tr>\n",
              "    <tr>\n",
              "      <th>2</th>\n",
              "      <td>1</td>\n",
              "      <td>1</td>\n",
              "      <td>Nantucket Nectar</td>\n",
              "      <td>[Apple]</td>\n",
              "      <td>$3.39</td>\n",
              "    </tr>\n",
              "    <tr>\n",
              "      <th>3</th>\n",
              "      <td>1</td>\n",
              "      <td>1</td>\n",
              "      <td>Chips and Tomatillo-Green Chili Salsa</td>\n",
              "      <td>NaN</td>\n",
              "      <td>$2.39</td>\n",
              "    </tr>\n",
              "    <tr>\n",
              "      <th>4</th>\n",
              "      <td>2</td>\n",
              "      <td>2</td>\n",
              "      <td>Chicken Bowl</td>\n",
              "      <td>[Tomatillo-Red Chili Salsa (Hot), [Black Beans...</td>\n",
              "      <td>$16.98</td>\n",
              "    </tr>\n",
              "    <tr>\n",
              "      <th>...</th>\n",
              "      <td>...</td>\n",
              "      <td>...</td>\n",
              "      <td>...</td>\n",
              "      <td>...</td>\n",
              "      <td>...</td>\n",
              "    </tr>\n",
              "    <tr>\n",
              "      <th>4617</th>\n",
              "      <td>1833</td>\n",
              "      <td>1</td>\n",
              "      <td>Steak Burrito</td>\n",
              "      <td>[Fresh Tomato Salsa, [Rice, Black Beans, Sour ...</td>\n",
              "      <td>$11.75</td>\n",
              "    </tr>\n",
              "    <tr>\n",
              "      <th>4618</th>\n",
              "      <td>1833</td>\n",
              "      <td>1</td>\n",
              "      <td>Steak Burrito</td>\n",
              "      <td>[Fresh Tomato Salsa, [Rice, Sour Cream, Cheese...</td>\n",
              "      <td>$11.75</td>\n",
              "    </tr>\n",
              "    <tr>\n",
              "      <th>4619</th>\n",
              "      <td>1834</td>\n",
              "      <td>1</td>\n",
              "      <td>Chicken Salad Bowl</td>\n",
              "      <td>[Fresh Tomato Salsa, [Fajita Vegetables, Pinto...</td>\n",
              "      <td>$11.25</td>\n",
              "    </tr>\n",
              "    <tr>\n",
              "      <th>4620</th>\n",
              "      <td>1834</td>\n",
              "      <td>1</td>\n",
              "      <td>Chicken Salad Bowl</td>\n",
              "      <td>[Fresh Tomato Salsa, [Fajita Vegetables, Lettu...</td>\n",
              "      <td>$8.75</td>\n",
              "    </tr>\n",
              "    <tr>\n",
              "      <th>4621</th>\n",
              "      <td>1834</td>\n",
              "      <td>1</td>\n",
              "      <td>Chicken Salad Bowl</td>\n",
              "      <td>[Fresh Tomato Salsa, [Fajita Vegetables, Pinto...</td>\n",
              "      <td>$8.75</td>\n",
              "    </tr>\n",
              "  </tbody>\n",
              "</table>\n",
              "<p>4622 rows × 5 columns</p>\n",
              "</div>\n",
              "      <button class=\"colab-df-convert\" onclick=\"convertToInteractive('df-cf439615-7f8d-427d-8839-bdd611be3e7c')\"\n",
              "              title=\"Convert this dataframe to an interactive table.\"\n",
              "              style=\"display:none;\">\n",
              "        \n",
              "  <svg xmlns=\"http://www.w3.org/2000/svg\" height=\"24px\"viewBox=\"0 0 24 24\"\n",
              "       width=\"24px\">\n",
              "    <path d=\"M0 0h24v24H0V0z\" fill=\"none\"/>\n",
              "    <path d=\"M18.56 5.44l.94 2.06.94-2.06 2.06-.94-2.06-.94-.94-2.06-.94 2.06-2.06.94zm-11 1L8.5 8.5l.94-2.06 2.06-.94-2.06-.94L8.5 2.5l-.94 2.06-2.06.94zm10 10l.94 2.06.94-2.06 2.06-.94-2.06-.94-.94-2.06-.94 2.06-2.06.94z\"/><path d=\"M17.41 7.96l-1.37-1.37c-.4-.4-.92-.59-1.43-.59-.52 0-1.04.2-1.43.59L10.3 9.45l-7.72 7.72c-.78.78-.78 2.05 0 2.83L4 21.41c.39.39.9.59 1.41.59.51 0 1.02-.2 1.41-.59l7.78-7.78 2.81-2.81c.8-.78.8-2.07 0-2.86zM5.41 20L4 18.59l7.72-7.72 1.47 1.35L5.41 20z\"/>\n",
              "  </svg>\n",
              "      </button>\n",
              "      \n",
              "  <style>\n",
              "    .colab-df-container {\n",
              "      display:flex;\n",
              "      flex-wrap:wrap;\n",
              "      gap: 12px;\n",
              "    }\n",
              "\n",
              "    .colab-df-convert {\n",
              "      background-color: #E8F0FE;\n",
              "      border: none;\n",
              "      border-radius: 50%;\n",
              "      cursor: pointer;\n",
              "      display: none;\n",
              "      fill: #1967D2;\n",
              "      height: 32px;\n",
              "      padding: 0 0 0 0;\n",
              "      width: 32px;\n",
              "    }\n",
              "\n",
              "    .colab-df-convert:hover {\n",
              "      background-color: #E2EBFA;\n",
              "      box-shadow: 0px 1px 2px rgba(60, 64, 67, 0.3), 0px 1px 3px 1px rgba(60, 64, 67, 0.15);\n",
              "      fill: #174EA6;\n",
              "    }\n",
              "\n",
              "    [theme=dark] .colab-df-convert {\n",
              "      background-color: #3B4455;\n",
              "      fill: #D2E3FC;\n",
              "    }\n",
              "\n",
              "    [theme=dark] .colab-df-convert:hover {\n",
              "      background-color: #434B5C;\n",
              "      box-shadow: 0px 1px 3px 1px rgba(0, 0, 0, 0.15);\n",
              "      filter: drop-shadow(0px 1px 2px rgba(0, 0, 0, 0.3));\n",
              "      fill: #FFFFFF;\n",
              "    }\n",
              "  </style>\n",
              "\n",
              "      <script>\n",
              "        const buttonEl =\n",
              "          document.querySelector('#df-cf439615-7f8d-427d-8839-bdd611be3e7c button.colab-df-convert');\n",
              "        buttonEl.style.display =\n",
              "          google.colab.kernel.accessAllowed ? 'block' : 'none';\n",
              "\n",
              "        async function convertToInteractive(key) {\n",
              "          const element = document.querySelector('#df-cf439615-7f8d-427d-8839-bdd611be3e7c');\n",
              "          const dataTable =\n",
              "            await google.colab.kernel.invokeFunction('convertToInteractive',\n",
              "                                                     [key], {});\n",
              "          if (!dataTable) return;\n",
              "\n",
              "          const docLinkHtml = 'Like what you see? Visit the ' +\n",
              "            '<a target=\"_blank\" href=https://colab.research.google.com/notebooks/data_table.ipynb>data table notebook</a>'\n",
              "            + ' to learn more about interactive tables.';\n",
              "          element.innerHTML = '';\n",
              "          dataTable['output_type'] = 'display_data';\n",
              "          await google.colab.output.renderOutput(dataTable, element);\n",
              "          const docLink = document.createElement('div');\n",
              "          docLink.innerHTML = docLinkHtml;\n",
              "          element.appendChild(docLink);\n",
              "        }\n",
              "      </script>\n",
              "    </div>\n",
              "  </div>\n",
              "  "
            ]
          },
          "metadata": {}
        }
      ]
    },
    {
      "cell_type": "markdown",
      "source": [
        "(1) 가장 잘 팔리지 않은 (주문량이 가장 적은) 메뉴 10개를 보여 주세요."
      ],
      "metadata": {
        "id": "Skfzqqa9jtmB"
      }
    },
    {
      "cell_type": "code",
      "source": [
        "item_count = df['item_name'].value_counts()[-11:-1] #내림차 순이므로 뒤에서 10번째~1번째까지 출력\n",
        "print(item_count)"
      ],
      "metadata": {
        "colab": {
          "base_uri": "https://localhost:8080/"
        },
        "id": "C1QZNtkw6PK2",
        "outputId": "bd28205d-0987-40b4-f163-281bceb8bc79"
      },
      "execution_count": null,
      "outputs": [
        {
          "output_type": "stream",
          "name": "stdout",
          "text": [
            "Carnitas Crispy Tacos                7\n",
            "Veggie Salad                         6\n",
            "Carnitas Salad Bowl                  6\n",
            "Burrito                              6\n",
            "Steak Salad                          4\n",
            "Crispy Tacos                         2\n",
            "Salad                                2\n",
            "Bowl                                 2\n",
            "Chips and Mild Fresh Tomato Salsa    1\n",
            "Veggie Crispy Tacos                  1\n",
            "Name: item_name, dtype: int64\n"
          ]
        }
      ]
    },
    {
      "cell_type": "code",
      "source": [
        "item_list = item_count.index.tolist()\n",
        "item_qty = item_count.values.tolist()"
      ],
      "metadata": {
        "id": "KqV4f56Ip59h"
      },
      "execution_count": null,
      "outputs": []
    },
    {
      "cell_type": "code",
      "source": [
        "plt.bar(item_list, item_qty, align='center')\n",
        "plt.ylabel('ordered_item_quantity')\n",
        "plt.title('Distribution of Lowest 10 orderd items (quantity)')\n",
        "plt.xticks(rotation= 90) \n",
        "plt.show()"
      ],
      "metadata": {
        "colab": {
          "base_uri": "https://localhost:8080/",
          "height": 443
        },
        "id": "hNouChCUsFhz",
        "outputId": "151c8a6b-8475-4caa-915e-98f4d27cee90"
      },
      "execution_count": null,
      "outputs": [
        {
          "output_type": "display_data",
          "data": {
            "text/plain": [
              "<Figure size 432x288 with 1 Axes>"
            ],
            "image/png": "[encoded data removed]"
          },
          "metadata": {
            "needs_background": "light"
          }
        }
      ]
    },
    {
      "cell_type": "markdown",
      "source": [
        "(2) 가격이 가장 저렴한 메뉴 5개를 보여주세요."
      ],
      "metadata": {
        "id": "YyCLFndppfjx"
      }
    },
    {
      "cell_type": "code",
      "source": [
        "display(df['item_price'].head())\n",
        "df['item_price'] = df['item_price'].apply(lambda x: float(x[1:])) #???? 왜 여기서 플로트 에러가 뜨는 지 모르겠어요\n",
        "\n",
        "display(df['item_price'].head())\n",
        "df.describe()"
      ],
      "metadata": {
        "id": "yAD1kWQqpg3s"
      },
      "execution_count": null,
      "outputs": []
    },
    {
      "cell_type": "markdown",
      "source": [
        "연습2: 공공 데이터 이용"
      ],
      "metadata": {
        "id": "orFGAWXg2kTt"
      }
    },
    {
      "cell_type": "code",
      "source": [
        "from google.colab import drive\n",
        "drive.mount('/content/drive')"
      ],
      "metadata": {
        "colab": {
          "base_uri": "https://localhost:8080/"
        },
        "id": "REuUj2jY3Pew",
        "outputId": "6720b78a-07de-4f8e-fd7c-1957331e8790"
      },
      "execution_count": null,
      "outputs": [
        {
          "output_type": "stream",
          "name": "stdout",
          "text": [
            "Mounted at /content/drive\n"
          ]
        }
      ]
    },
    {
      "cell_type": "code",
      "source": [
        "covid = pd.read_csv(\"/content/drive/MyDrive/Colab Notebooks/ITB/서울시 코로나19 백신 예방접종 현황.csv\", encoding='cp949')"
      ],
      "metadata": {
        "id": "Z8Boep7L3QuU"
      },
      "execution_count": null,
      "outputs": []
    },
    {
      "cell_type": "code",
      "source": [
        "display(covid.head())\n",
        "print(covid.info()) \n",
        "print(covid.describe()) "
      ],
      "metadata": {
        "colab": {
          "base_uri": "https://localhost:8080/",
          "height": 1000
        },
        "id": "oOK_P3l88i0c",
        "outputId": "b7257289-278d-41f9-d01f-5981bd0b4fb9"
      },
      "execution_count": null,
      "outputs": [
        {
          "output_type": "display_data",
          "data": {
            "text/plain": [
              "          접종일    접종대상자  당일 1차접종자 수  1차접종 누계  1차접종률(%)  당일 2차접종자 수  2차접종 누계  \\\n",
              "0  2022.10.11  9401888          25  8340612      88.7          59  8262506   \n",
              "1  2022.10.10  9401888          64  8340201      88.7         103  8262054   \n",
              "2  2022.10.06  9401888          31  8340995      88.7          72  8262726   \n",
              "3  2022.10.05  9401888          35  8341102      88.7          67  8262788   \n",
              "4  2022.10.04  9401888          31  8341073      88.7          69  8262728   \n",
              "\n",
              "   2차접종률(%)  당일 3차접종자 수    3차접종 누계  3차접종률(%)  당일 4차접종자 수    4차접종 누계  4차접종률(%)  \n",
              "0      87.9       488.0  6066423.0      64.5       568.0  1253111.0      13.3  \n",
              "1      87.9       689.0  6065512.0      64.5      1973.0  1252410.0      13.3  \n",
              "2      87.9       426.0  6064823.0      64.5       821.0  1250437.0      13.3  \n",
              "3      87.9       450.0  6064480.0      64.5       774.0  1249608.0      13.3  \n",
              "4      87.9       456.0  6064064.0      64.5       756.0  1248848.0      13.3  "
            ],
            "text/html": [
              "\n",
              "  <div id=\"df-f2301b7e-3b72-4974-9661-6a175386dd21\">\n",
              "    <div class=\"colab-df-container\">\n",
              "      <div>\n",
              "<style scoped>\n",
              "    .dataframe tbody tr th:only-of-type {\n",
              "        vertical-align: middle;\n",
              "    }\n",
              "\n",
              "    .dataframe tbody tr th {\n",
              "        vertical-align: top;\n",
              "    }\n",
              "\n",
              "    .dataframe thead th {\n",
              "        text-align: right;\n",
              "    }\n",
              "</style>\n",
              "<table border=\"1\" class=\"dataframe\">\n",
              "  <thead>\n",
              "    <tr style=\"text-align: right;\">\n",
              "      <th></th>\n",
              "      <th>접종일</th>\n",
              "      <th>접종대상자</th>\n",
              "      <th>당일 1차접종자 수</th>\n",
              "      <th>1차접종 누계</th>\n",
              "      <th>1차접종률(%)</th>\n",
              "      <th>당일 2차접종자 수</th>\n",
              "      <th>2차접종 누계</th>\n",
              "      <th>2차접종률(%)</th>\n",
              "      <th>당일 3차접종자 수</th>\n",
              "      <th>3차접종 누계</th>\n",
              "      <th>3차접종률(%)</th>\n",
              "      <th>당일 4차접종자 수</th>\n",
              "      <th>4차접종 누계</th>\n",
              "      <th>4차접종률(%)</th>\n",
              "    </tr>\n",
              "  </thead>\n",
              "  <tbody>\n",
              "    <tr>\n",
              "      <th>0</th>\n",
              "      <td>2022.10.11</td>\n",
              "      <td>9401888</td>\n",
              "      <td>25</td>\n",
              "      <td>8340612</td>\n",
              "      <td>88.7</td>\n",
              "      <td>59</td>\n",
              "      <td>8262506</td>\n",
              "      <td>87.9</td>\n",
              "      <td>488.0</td>\n",
              "      <td>6066423.0</td>\n",
              "      <td>64.5</td>\n",
              "      <td>568.0</td>\n",
              "      <td>1253111.0</td>\n",
              "      <td>13.3</td>\n",
              "    </tr>\n",
              "    <tr>\n",
              "      <th>1</th>\n",
              "      <td>2022.10.10</td>\n",
              "      <td>9401888</td>\n",
              "      <td>64</td>\n",
              "      <td>8340201</td>\n",
              "      <td>88.7</td>\n",
              "      <td>103</td>\n",
              "      <td>8262054</td>\n",
              "      <td>87.9</td>\n",
              "      <td>689.0</td>\n",
              "      <td>6065512.0</td>\n",
              "      <td>64.5</td>\n",
              "      <td>1973.0</td>\n",
              "      <td>1252410.0</td>\n",
              "      <td>13.3</td>\n",
              "    </tr>\n",
              "    <tr>\n",
              "      <th>2</th>\n",
              "      <td>2022.10.06</td>\n",
              "      <td>9401888</td>\n",
              "      <td>31</td>\n",
              "      <td>8340995</td>\n",
              "      <td>88.7</td>\n",
              "      <td>72</td>\n",
              "      <td>8262726</td>\n",
              "      <td>87.9</td>\n",
              "      <td>426.0</td>\n",
              "      <td>6064823.0</td>\n",
              "      <td>64.5</td>\n",
              "      <td>821.0</td>\n",
              "      <td>1250437.0</td>\n",
              "      <td>13.3</td>\n",
              "    </tr>\n",
              "    <tr>\n",
              "      <th>3</th>\n",
              "      <td>2022.10.05</td>\n",
              "      <td>9401888</td>\n",
              "      <td>35</td>\n",
              "      <td>8341102</td>\n",
              "      <td>88.7</td>\n",
              "      <td>67</td>\n",
              "      <td>8262788</td>\n",
              "      <td>87.9</td>\n",
              "      <td>450.0</td>\n",
              "      <td>6064480.0</td>\n",
              "      <td>64.5</td>\n",
              "      <td>774.0</td>\n",
              "      <td>1249608.0</td>\n",
              "      <td>13.3</td>\n",
              "    </tr>\n",
              "    <tr>\n",
              "      <th>4</th>\n",
              "      <td>2022.10.04</td>\n",
              "      <td>9401888</td>\n",
              "      <td>31</td>\n",
              "      <td>8341073</td>\n",
              "      <td>88.7</td>\n",
              "      <td>69</td>\n",
              "      <td>8262728</td>\n",
              "      <td>87.9</td>\n",
              "      <td>456.0</td>\n",
              "      <td>6064064.0</td>\n",
              "      <td>64.5</td>\n",
              "      <td>756.0</td>\n",
              "      <td>1248848.0</td>\n",
              "      <td>13.3</td>\n",
              "    </tr>\n",
              "  </tbody>\n",
              "</table>\n",
              "</div>\n",
              "      <button class=\"colab-df-convert\" onclick=\"convertToInteractive('df-f2301b7e-3b72-4974-9661-6a175386dd21')\"\n",
              "              title=\"Convert this dataframe to an interactive table.\"\n",
              "              style=\"display:none;\">\n",
              "        \n",
              "  <svg xmlns=\"http://www.w3.org/2000/svg\" height=\"24px\"viewBox=\"0 0 24 24\"\n",
              "       width=\"24px\">\n",
              "    <path d=\"M0 0h24v24H0V0z\" fill=\"none\"/>\n",
              "    <path d=\"M18.56 5.44l.94 2.06.94-2.06 2.06-.94-2.06-.94-.94-2.06-.94 2.06-2.06.94zm-11 1L8.5 8.5l.94-2.06 2.06-.94-2.06-.94L8.5 2.5l-.94 2.06-2.06.94zm10 10l.94 2.06.94-2.06 2.06-.94-2.06-.94-.94-2.06-.94 2.06-2.06.94z\"/><path d=\"M17.41 7.96l-1.37-1.37c-.4-.4-.92-.59-1.43-.59-.52 0-1.04.2-1.43.59L10.3 9.45l-7.72 7.72c-.78.78-.78 2.05 0 2.83L4 21.41c.39.39.9.59 1.41.59.51 0 1.02-.2 1.41-.59l7.78-7.78 2.81-2.81c.8-.78.8-2.07 0-2.86zM5.41 20L4 18.59l7.72-7.72 1.47 1.35L5.41 20z\"/>\n",
              "  </svg>\n",
              "      </button>\n",
              "      \n",
              "  <style>\n",
              "    .colab-df-container {\n",
              "      display:flex;\n",
              "      flex-wrap:wrap;\n",
              "      gap: 12px;\n",
              "    }\n",
              "\n",
              "    .colab-df-convert {\n",
              "      background-color: #E8F0FE;\n",
              "      border: none;\n",
              "      border-radius: 50%;\n",
              "      cursor: pointer;\n",
              "      display: none;\n",
              "      fill: #1967D2;\n",
              "      height: 32px;\n",
              "      padding: 0 0 0 0;\n",
              "      width: 32px;\n",
              "    }\n",
              "\n",
              "    .colab-df-convert:hover {\n",
              "      background-color: #E2EBFA;\n",
              "      box-shadow: 0px 1px 2px rgba(60, 64, 67, 0.3), 0px 1px 3px 1px rgba(60, 64, 67, 0.15);\n",
              "      fill: #174EA6;\n",
              "    }\n",
              "\n",
              "    [theme=dark] .colab-df-convert {\n",
              "      background-color: #3B4455;\n",
              "      fill: #D2E3FC;\n",
              "    }\n",
              "\n",
              "    [theme=dark] .colab-df-convert:hover {\n",
              "      background-color: #434B5C;\n",
              "      box-shadow: 0px 1px 3px 1px rgba(0, 0, 0, 0.15);\n",
              "      filter: drop-shadow(0px 1px 2px rgba(0, 0, 0, 0.3));\n",
              "      fill: #FFFFFF;\n",
              "    }\n",
              "  </style>\n",
              "\n",
              "      <script>\n",
              "        const buttonEl =\n",
              "          document.querySelector('#df-f2301b7e-3b72-4974-9661-6a175386dd21 button.colab-df-convert');\n",
              "        buttonEl.style.display =\n",
              "          google.colab.kernel.accessAllowed ? 'block' : 'none';\n",
              "\n",
              "        async function convertToInteractive(key) {\n",
              "          const element = document.querySelector('#df-f2301b7e-3b72-4974-9661-6a175386dd21');\n",
              "          const dataTable =\n",
              "            await google.colab.kernel.invokeFunction('convertToInteractive',\n",
              "                                                     [key], {});\n",
              "          if (!dataTable) return;\n",
              "\n",
              "          const docLinkHtml = 'Like what you see? Visit the ' +\n",
              "            '<a target=\"_blank\" href=https://colab.research.google.com/notebooks/data_table.ipynb>data table notebook</a>'\n",
              "            + ' to learn more about interactive tables.';\n",
              "          element.innerHTML = '';\n",
              "          dataTable['output_type'] = 'display_data';\n",
              "          await google.colab.output.renderOutput(dataTable, element);\n",
              "          const docLink = document.createElement('div');\n",
              "          docLink.innerHTML = docLinkHtml;\n",
              "          element.appendChild(docLink);\n",
              "        }\n",
              "      </script>\n",
              "    </div>\n",
              "  </div>\n",
              "  "
            ]
          },
          "metadata": {}
        },
        {
          "output_type": "stream",
          "name": "stdout",
          "text": [
            "<class 'pandas.core.frame.DataFrame'>\n",
            "RangeIndex: 499 entries, 0 to 498\n",
            "Data columns (total 14 columns):\n",
            " #   Column      Non-Null Count  Dtype  \n",
            "---  ------      --------------  -----  \n",
            " 0   접종일         499 non-null    object \n",
            " 1   접종대상자       499 non-null    int64  \n",
            " 2   당일 1차접종자 수  499 non-null    int64  \n",
            " 3   1차접종 누계     499 non-null    int64  \n",
            " 4   1차접종률(%)    499 non-null    float64\n",
            " 5   당일 2차접종자 수  499 non-null    int64  \n",
            " 6   2차접종 누계     499 non-null    int64  \n",
            " 7   2차접종률(%)    499 non-null    float64\n",
            " 8   당일 3차접종자 수  324 non-null    float64\n",
            " 9   3차접종 누계     324 non-null    float64\n",
            " 10  3차접종률(%)    308 non-null    float64\n",
            " 11  당일 4차접종자 수  170 non-null    float64\n",
            " 12  4차접종 누계     170 non-null    float64\n",
            " 13  4차접종률(%)    170 non-null    float64\n",
            "dtypes: float64(8), int64(5), object(1)\n",
            "memory usage: 54.7+ KB\n",
            "None\n",
            "              접종대상자     당일 1차접종자 수       1차접종 누계    1차접종률(%)     당일 2차접종자 수  \\\n",
            "count  4.990000e+02     499.000000  4.990000e+02  499.000000     499.000000   \n",
            "mean   7.870605e+06   15737.364729  6.542124e+06   80.025251   16130.472946   \n",
            "std    2.880139e+06   32050.844423  2.643815e+06   13.347300   31259.881194   \n",
            "min    1.019322e+06       0.000000  2.918570e+05   28.600000       0.000000   \n",
            "25%    9.401888e+06     113.000000  4.893297e+06   78.800000     159.000000   \n",
            "50%    9.401888e+06    1432.000000  8.157184e+06   87.200000    2198.000000   \n",
            "75%    9.505868e+06   10804.500000  8.331016e+06   88.600000   13191.000000   \n",
            "max    9.795426e+06  169036.000000  8.341102e+06   95.700000  200186.000000   \n",
            "\n",
            "            2차접종 누계    2차접종률(%)     당일 3차접종자 수       3차접종 누계    3차접종률(%)  \\\n",
            "count  4.990000e+02  499.000000     324.000000  3.240000e+02  308.000000   \n",
            "mean   5.814718e+06   64.856112   18163.222222  4.466164e+06   51.085390   \n",
            "std    3.176693e+06   29.066291   33869.382262  2.225930e+06   21.087532   \n",
            "min    1.354300e+04    1.300000       0.000000  2.800000e+02    0.200000   \n",
            "25%    2.396518e+06   33.350000     604.000000  3.383178e+06   48.475000   \n",
            "50%    7.891991e+06   83.000000    1717.500000  5.852692e+06   62.800000   \n",
            "75%    8.244300e+06   87.700000   21116.750000  6.007628e+06   63.900000   \n",
            "max    8.262788e+06   87.900000  213984.000000  6.066423e+06   64.500000   \n",
            "\n",
            "         당일 4차접종자 수       4차접종 누계    4차접종률(%)  \n",
            "count    170.000000  1.700000e+02  170.000000  \n",
            "mean    6819.752941  6.317971e+05    6.720000  \n",
            "std     9693.855301  4.185822e+05    4.451269  \n",
            "min        3.000000  1.753900e+04    0.200000  \n",
            "25%     1028.000000  2.086852e+05    2.200000  \n",
            "50%     2558.500000  6.788580e+05    7.200000  \n",
            "75%     9130.000000  9.704800e+05   10.325000  \n",
            "max    62443.000000  1.253111e+06   13.300000  \n"
          ]
        }
      ]
    },
    {
      "cell_type": "code",
      "source": [
        "last_day = covid.loc[0]\n",
        "print(last_day)"
      ],
      "metadata": {
        "colab": {
          "base_uri": "https://localhost:8080/"
        },
        "id": "9MgVaaBuD7fq",
        "outputId": "558705b3-0353-4c90-f205-b785997dcf9b"
      },
      "execution_count": null,
      "outputs": [
        {
          "output_type": "stream",
          "name": "stdout",
          "text": [
            "접종일           2022.10.11\n",
            "접종대상자            9401888\n",
            "당일 1차접종자 수            25\n",
            "1차접종 누계          8340612\n",
            "1차접종률(%)            88.7\n",
            "당일 2차접종자 수            59\n",
            "2차접종 누계          8262506\n",
            "2차접종률(%)            87.9\n",
            "당일 3차접종자 수         488.0\n",
            "3차접종 누계        6066423.0\n",
            "3차접종률(%)            64.5\n",
            "당일 4차접종자 수         568.0\n",
            "4차접종 누계        1253111.0\n",
            "4차접종률(%)            13.3\n",
            "Name: 0, dtype: object\n"
          ]
        }
      ]
    },
    {
      "cell_type": "code",
      "source": [
        "#여..기서 당일 접종률만 뽑아서 시각화하고 싶은데 어떻게 해야할지 모르겠어요... "
      ],
      "metadata": {
        "id": "43RSxJx8FSm1"
      },
      "execution_count": null,
      "outputs": []
    }
  ]
}